{
 "cells": [
  {
   "cell_type": "markdown",
   "metadata": {
    "id": "l-8GPwhINl7o"
   },
   "source": [
    "# **AxxendCorp AI/ML Assessment**\n",
    "\n",
    "***Project Goal :***\n",
    "Build a machine learning model to predict house prices based on different features such as\n",
    "size, location, and number of rooms. The project should demonstrate data preprocessing,\n",
    "model training, evaluation, and reporting of insights."
   ]
  },
  {
   "cell_type": "code",
   "execution_count": 1,
   "metadata": {
    "colab": {
     "base_uri": "https://localhost:8080/"
    },
    "id": "TEhfPMKbONxg",
    "outputId": "0202b495-1e97-4a7e-c724-31909f9be054"
   },
   "outputs": [
    {
     "ename": "ModuleNotFoundError",
     "evalue": "No module named 'kagglehub'",
     "output_type": "error",
     "traceback": [
      "\u001b[1;31m---------------------------------------------------------------------------\u001b[0m",
      "\u001b[1;31mModuleNotFoundError\u001b[0m                       Traceback (most recent call last)",
      "Cell \u001b[1;32mIn[1], line 2\u001b[0m\n\u001b[0;32m      1\u001b[0m \u001b[38;5;66;03m# Code for uploading kaggle notebook for the dataset given\u001b[39;00m\n\u001b[1;32m----> 2\u001b[0m \u001b[38;5;28;01mimport\u001b[39;00m \u001b[38;5;21;01mkagglehub\u001b[39;00m\n\u001b[0;32m      4\u001b[0m \u001b[38;5;66;03m# Download latest version\u001b[39;00m\n\u001b[0;32m      5\u001b[0m path \u001b[38;5;241m=\u001b[39m kagglehub\u001b[38;5;241m.\u001b[39mdataset_download(\u001b[38;5;124m\"\u001b[39m\u001b[38;5;124mlespin/house-prices-dataset\u001b[39m\u001b[38;5;124m\"\u001b[39m)\n",
      "\u001b[1;31mModuleNotFoundError\u001b[0m: No module named 'kagglehub'"
     ]
    }
   ],
   "source": [
    "# Code for uploading kaggle notebook for the dataset given\n",
    "import kagglehub\n",
    "\n",
    "# Download latest version\n",
    "path = kagglehub.dataset_download(\"lespin/house-prices-dataset\")\n",
    "\n",
    "print(\"Path to dataset files:\", path)"
   ]
  },
  {
   "cell_type": "markdown",
   "metadata": {
    "id": "92K8YVCyRobW"
   },
   "source": [
    "**DATA UNDERSTANDING AND CLEANING**"
   ]
  },
  {
   "cell_type": "code",
   "execution_count": null,
   "metadata": {
    "id": "RLIzNssKRzWU"
   },
   "outputs": [],
   "source": [
    "import pandas as pd\n",
    "import numpy as np\n",
    "import matplotlib.pyplot as plt\n",
    "import seaborn as sns\n",
    "\n",
    "pd.set_option('display.max_columns', None)"
   ]
  },
  {
   "cell_type": "code",
   "execution_count": null,
   "metadata": {
    "colab": {
     "base_uri": "https://localhost:8080/",
     "height": 226
    },
    "id": "apbSuYUYTXoc",
    "outputId": "67b7f2c4-815d-42db-909a-4b08e6f5fda8"
   },
   "outputs": [],
   "source": [
    "# Loading dataset using pandas\n",
    "data = pd.read_csv( path + \"/train.csv\")\n",
    "data.head()"
   ]
  },
  {
   "cell_type": "code",
   "execution_count": null,
   "metadata": {
    "colab": {
     "base_uri": "https://localhost:8080/",
     "height": 226
    },
    "id": "S0r-fmhjTrNM",
    "outputId": "87fb2ac5-9fd3-4fc1-c607-690716b892a4"
   },
   "outputs": [],
   "source": [
    "data.tail()"
   ]
  },
  {
   "cell_type": "markdown",
   "metadata": {
    "id": "lyYS4bQ6T54q"
   },
   "source": [
    "**Loaded Head section a tail section of the data above to see the features involved**"
   ]
  },
  {
   "cell_type": "code",
   "execution_count": null,
   "metadata": {
    "colab": {
     "base_uri": "https://localhost:8080/"
    },
    "id": "J1bYsLPzUIjp",
    "outputId": "f4df506f-5fe7-42ff-9f59-0b87e45dd9bf"
   },
   "outputs": [],
   "source": [
    "data.shape  # There are 81 features with 1460 observations in the data"
   ]
  },
  {
   "cell_type": "code",
   "execution_count": null,
   "metadata": {
    "colab": {
     "base_uri": "https://localhost:8080/",
     "height": 458
    },
    "id": "sYJgXLphhQ-f",
    "outputId": "18ceea4a-77c8-4668-f18e-9aa4f000539a"
   },
   "outputs": [],
   "source": [
    "data.nunique()  # This tells the number of unique observations or rows per feature"
   ]
  },
  {
   "cell_type": "code",
   "execution_count": null,
   "metadata": {
    "colab": {
     "base_uri": "https://localhost:8080/"
    },
    "id": "GTaiDbseUi56",
    "outputId": "16c4acfa-7084-4d04-9984-bbd110599ad8"
   },
   "outputs": [],
   "source": [
    "pd.set_option('display.max_rows', None)\n",
    "data.info()"
   ]
  },
  {
   "cell_type": "markdown",
   "metadata": {
    "id": "bqpSgI5xVQnZ"
   },
   "source": [
    "**Data above shows the information about the data including the number of observations per feature and also shows if the data is balanced as well as the data types of each feature.**"
   ]
  },
  {
   "cell_type": "code",
   "execution_count": null,
   "metadata": {
    "colab": {
     "base_uri": "https://localhost:8080/",
     "height": 320
    },
    "id": "UklfW7ZuVMXS",
    "outputId": "48057094-eb4b-460c-b8d7-a3ef3d42fd0b"
   },
   "outputs": [],
   "source": [
    "data.describe()"
   ]
  },
  {
   "cell_type": "markdown",
   "metadata": {
    "id": "PGo16Q07W7VW"
   },
   "source": [
    "**Description of the data which includes the number of observations or rows per feature, the mean , standard deviation and other attributes which will help later on when cleaning the dataset.**"
   ]
  },
  {
   "cell_type": "code",
   "execution_count": null,
   "metadata": {
    "colab": {
     "base_uri": "https://localhost:8080/",
     "height": 1000
    },
    "id": "M-X4Z-4mWkoo",
    "outputId": "c52580cd-2772-4086-bd8b-92893c656dca"
   },
   "outputs": [],
   "source": [
    "data.isnull().sum()  #This code helps to know the number of null values in each feature attribute."
   ]
  },
  {
   "cell_type": "code",
   "execution_count": null,
   "metadata": {
    "colab": {
     "base_uri": "https://localhost:8080/"
    },
    "id": "hn5RGSc_YMGm",
    "outputId": "05d9bf9d-7549-453d-f824-fd245066b560"
   },
   "outputs": [],
   "source": [
    "print(data.dtypes)  # Checking for the data types with object or boolean"
   ]
  },
  {
   "cell_type": "code",
   "execution_count": null,
   "metadata": {
    "colab": {
     "base_uri": "https://localhost:8080/"
    },
    "id": "IXaaH9n2ZGAm",
    "outputId": "e580ef9d-0a27-4d82-d39b-7f9d45374b88"
   },
   "outputs": [],
   "source": [
    "cate_data = [x for x in data.columns if data[x].dtypes == \"object\" or data[x].dtypes == \"bool\"]\n",
    "print(len(cate_data))\n",
    "print(cate_data)"
   ]
  },
  {
   "cell_type": "markdown",
   "metadata": {
    "id": "Zjgei5L9ZjCJ"
   },
   "source": [
    "**Data above shows the columns having the categorical attributes. Here, we are going to convert them to numerical observations since the Machine learning model needs numerical data.**"
   ]
  },
  {
   "cell_type": "code",
   "execution_count": null,
   "metadata": {
    "id": "7NUbCmj0Z-mb"
   },
   "outputs": [],
   "source": [
    "from sklearn.preprocessing import LabelEncoder\n",
    "\n",
    "encode = LabelEncoder()\n",
    "for x in cate_data:\n",
    "    data[x] = encode.fit_transform(data[x])"
   ]
  },
  {
   "cell_type": "code",
   "execution_count": null,
   "metadata": {
    "colab": {
     "base_uri": "https://localhost:8080/",
     "height": 226
    },
    "id": "8rCQtBkreKUi",
    "outputId": "d7dd2568-690a-4345-cb18-c905adc1fec5"
   },
   "outputs": [],
   "source": [
    "data.head()"
   ]
  },
  {
   "cell_type": "markdown",
   "metadata": {
    "id": "pYVJcrz6jVTw"
   },
   "source": [
    "**Handling missing values from data right after changing the categorical features making the observations numeric**"
   ]
  },
  {
   "cell_type": "code",
   "execution_count": null,
   "metadata": {
    "colab": {
     "base_uri": "https://localhost:8080/"
    },
    "id": "sVFUVcM4q7U9",
    "outputId": "9ce1d529-f6c1-4aad-f49c-fa6a4b4772b8"
   },
   "outputs": [],
   "source": [
    "print(data.isnull().sum()[data.isnull().sum() > 0])"
   ]
  },
  {
   "cell_type": "code",
   "execution_count": null,
   "metadata": {
    "id": "o9raGBf-rdfh"
   },
   "outputs": [],
   "source": [
    "data.fillna({\"LotFrontage\": data[\"LotFrontage\"].mean()}, inplace = True)\n",
    "data.fillna({\"MasVnrArea\": data[\"MasVnrArea\"].mean()}, inplace = True)\n",
    "data.fillna({\"GarageYrBlt\": data[\"GarageYrBlt\"].mean()}, inplace = True)"
   ]
  },
  {
   "cell_type": "code",
   "execution_count": null,
   "metadata": {
    "colab": {
     "base_uri": "https://localhost:8080/"
    },
    "id": "4LwwdN3Bscag",
    "outputId": "676e9538-6c59-403b-ed0c-854e7999704e"
   },
   "outputs": [],
   "source": [
    "print(data.isnull().sum()[data.isnull().sum() > 0])"
   ]
  },
  {
   "cell_type": "markdown",
   "metadata": {
    "id": "rqPzyGgOuemQ"
   },
   "source": [
    "**Replaced missing values with their respective mean values**"
   ]
  },
  {
   "cell_type": "code",
   "execution_count": null,
   "metadata": {
    "colab": {
     "base_uri": "https://localhost:8080/",
     "height": 1000
    },
    "id": "a2f6839b",
    "outputId": "4a0f7371-5947-4c28-d47a-2a7c53c3f35e"
   },
   "outputs": [],
   "source": [
    "# Select some numerical columns for visualization\n",
    "numerical_cols = data.select_dtypes(include=np.number).columns.tolist()\n",
    "\n",
    "# Exclude 'Id' and the target variable 'SalePrice' for now\n",
    "numerical_cols.remove('Id')\n",
    "numerical_cols.remove('SalePrice')\n",
    "\n",
    "# You can select a subset of these columns to visualize, for example the first 10\n",
    "cols_to_plot = numerical_cols[:10]\n",
    "\n",
    "plt.figure(figsize=(15, 10))\n",
    "for i, col in enumerate(cols_to_plot):\n",
    "    plt.subplot(2, 5, i + 1)\n",
    "    sns.boxplot(y=data[col])\n",
    "    plt.title(col)\n",
    "plt.tight_layout()\n",
    "plt.show()"
   ]
  },
  {
   "cell_type": "code",
   "execution_count": null,
   "metadata": {
    "colab": {
     "base_uri": "https://localhost:8080/",
     "height": 1000
    },
    "id": "bs4Vr0VJPoNY",
    "outputId": "019703da-6bfc-441f-8afc-0791edd30be1"
   },
   "outputs": [],
   "source": []
  },
  {
   "cell_type": "code",
   "execution_count": null,
   "metadata": {
    "id": "elQA6G2ePq5s"
   },
   "outputs": [],
   "source": []
  }
 ],
 "metadata": {
  "colab": {
   "provenance": []
  },
  "kernelspec": {
   "display_name": "Python 3 (ipykernel)",
   "language": "python",
   "name": "python3"
  },
  "language_info": {
   "codemirror_mode": {
    "name": "ipython",
    "version": 3
   },
   "file_extension": ".py",
   "mimetype": "text/x-python",
   "name": "python",
   "nbconvert_exporter": "python",
   "pygments_lexer": "ipython3",
   "version": "3.9.13"
  }
 },
 "nbformat": 4,
 "nbformat_minor": 4
}
